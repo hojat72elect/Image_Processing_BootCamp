{
 "cells": [
  {
   "cell_type": "code",
   "id": "initial_id",
   "metadata": {
    "collapsed": true,
    "ExecuteTime": {
     "end_time": "2025-09-14T03:13:42.087844Z",
     "start_time": "2025-09-14T03:13:42.084937Z"
    }
   },
   "source": [
    "\"\"\"\n",
    "A convolution kernel is a small matrix used in image processing to apply various effects like blurring, sharpening, edge detection, and more.\n",
    "It works by sliding over an image and performing mathematical operations between the kernel values and the corresponding pixel values of the image.\n",
    "This is how a convolution kernel works: \n",
    "\n",
    "1- The kernel is centered over each pixel in the image.\n",
    "2- Each element of the kernel is multiplied by the corresponding pixel value.\n",
    "3- The results are summed up to produce a new value for the center pixel.\n",
    "4- This process repeats for every pixel in the image.\n",
    "\n",
    "\"\"\"\n",
    "\n",
    "# The sharpening kernel. This kernel emphasizes differences between a pixel and its neighbors, making edges appear sharper.\n",
    "sharpening_kernel = [-1, -1, -1,\n",
    "                     -1, 9, -1,\n",
    "                     -1, -1, -1]\n"
   ],
   "outputs": [],
   "execution_count": 14
  },
  {
   "metadata": {
    "ExecuteTime": {
     "end_time": "2025-09-14T03:13:42.374782Z",
     "start_time": "2025-09-14T03:13:42.372305Z"
    }
   },
   "cell_type": "code",
   "source": [
    "# The blurring kernel. This kernel averages each pixel with its neighbors, creating a smoothing effect. \n",
    "blurring_kernel = [1 / 9, 1 / 9, 1 / 9,\n",
    "                   1 / 9, 1 / 9, 1 / 9,\n",
    "                   1 / 9, 1 / 9, 1 / 9]"
   ],
   "id": "3c698e5aa51dea94",
   "outputs": [],
   "execution_count": 15
  },
  {
   "metadata": {
    "ExecuteTime": {
     "end_time": "2025-09-14T03:17:31.918506Z",
     "start_time": "2025-09-14T03:17:31.912903Z"
    }
   },
   "cell_type": "code",
   "source": [
    "# Edge detection kernel . Sobel edge detection kernel (for horizontal edges). \n",
    "# This kernel highlights areas where pixel values change rapidly, revealing edges.\n",
    "edge_detection_kernel = [-1, 0, 1,\n",
    "                         -2, 0, 2,\n",
    "                         -1, 0, 1]"
   ],
   "id": "c910bb860261b98c",
   "outputs": [],
   "execution_count": 28
  },
  {
   "metadata": {
    "ExecuteTime": {
     "end_time": "2025-09-14T03:15:21.419130Z",
     "start_time": "2025-09-14T03:15:21.416461Z"
    }
   },
   "cell_type": "code",
   "source": [
    "# imports\n",
    "import PIL.Image\n",
    "import PIL.ImageFilter"
   ],
   "id": "9f51e8f93daf8fc4",
   "outputs": [],
   "execution_count": 23
  },
  {
   "metadata": {
    "ExecuteTime": {
     "end_time": "2025-09-14T03:19:44.780416Z",
     "start_time": "2025-09-14T03:19:44.669055Z"
    }
   },
   "cell_type": "code",
   "source": [
    "# load original image: \n",
    "model_image = PIL.Image.open('../../images/Iranian_model.webp')\n",
    "model_image.show()"
   ],
   "id": "e0e8c755b1bc3c54",
   "outputs": [],
   "execution_count": 32
  },
  {
   "metadata": {
    "ExecuteTime": {
     "end_time": "2025-09-14T03:20:09.444436Z",
     "start_time": "2025-09-14T03:20:09.331074Z"
    }
   },
   "cell_type": "code",
   "source": [
    "# Sharpening with a convolution kernel \n",
    "\n",
    "sharpening_convolution_kernel = PIL.ImageFilter.Kernel((3, 3), sharpening_kernel, )\n",
    "sharpened_image = model_image.filter(sharpening_convolution_kernel)\n",
    "\n",
    "sharpened_image.show()"
   ],
   "id": "911edb02075a8a3a",
   "outputs": [],
   "execution_count": 33
  },
  {
   "metadata": {
    "ExecuteTime": {
     "end_time": "2025-09-14T03:13:42.755628Z",
     "start_time": "2025-09-14T03:13:42.632872Z"
    }
   },
   "cell_type": "code",
   "source": [
    "# Blurring with a convolution kernel \n",
    "\n",
    "blurring_convolution_kernel = PIL.ImageFilter.Kernel((3, 3), blurring_kernel, )\n",
    "blurred_image = model_image.filter(blurring_convolution_kernel)\n",
    "\n",
    "blurred_image.show()"
   ],
   "id": "ddfb2a3e9f5822ea",
   "outputs": [],
   "execution_count": 20
  },
  {
   "metadata": {
    "ExecuteTime": {
     "end_time": "2025-09-14T03:19:29.220491Z",
     "start_time": "2025-09-14T03:19:29.106875Z"
    }
   },
   "cell_type": "code",
   "source": [
    "# Edge detecting with a convolution kernel \n",
    "\n",
    "edge_detecting_convolution_kernel = PIL.ImageFilter.Kernel((3, 3),  edge_detection_kernel, 1, 0)\n",
    "edge_detected_image = model_image.filter(edge_detecting_convolution_kernel)\n",
    "\n",
    "edge_detected_image.show()"
   ],
   "id": "40f4d9e52a1462d",
   "outputs": [],
   "execution_count": 31
  }
 ],
 "metadata": {
  "kernelspec": {
   "display_name": "Python 3",
   "language": "python",
   "name": "python3"
  },
  "language_info": {
   "codemirror_mode": {
    "name": "ipython",
    "version": 2
   },
   "file_extension": ".py",
   "mimetype": "text/x-python",
   "name": "python",
   "nbconvert_exporter": "python",
   "pygments_lexer": "ipython2",
   "version": "2.7.6"
  }
 },
 "nbformat": 4,
 "nbformat_minor": 5
}
