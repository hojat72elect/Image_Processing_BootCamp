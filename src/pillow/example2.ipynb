{
 "cells": [
  {
   "cell_type": "code",
   "metadata": {
    "ExecuteTime": {
     "end_time": "2025-09-09T01:32:27.770809Z",
     "start_time": "2025-09-09T01:32:27.674275Z"
    }
   },
   "source": [
    "import PIL.Image\n",
    "\n",
    "input_image= PIL.Image.open('../../images/Gambian_model.png')\n",
    "\n",
    "# Each one of the pixels of the image will be multiplied by 4\n",
    "output_image = input_image.point(lambda i: i * 4)\n",
    "output_image.show()"
   ],
   "outputs": [],
   "execution_count": 1
  },
  {
   "metadata": {},
   "cell_type": "code",
   "outputs": [],
   "execution_count": null,
   "source": ""
  }
 ],
 "metadata": {
  "kernelspec": {
   "display_name": ".venv",
   "language": "python",
   "name": "python3"
  },
  "language_info": {
   "codemirror_mode": {
    "name": "ipython",
    "version": 3
   },
   "file_extension": ".py",
   "mimetype": "text/x-python",
   "name": "python",
   "nbconvert_exporter": "python",
   "pygments_lexer": "ipython3",
   "version": "3.13.1"
  }
 },
 "nbformat": 4,
 "nbformat_minor": 2
}
