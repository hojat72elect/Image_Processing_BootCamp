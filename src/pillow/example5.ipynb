{
 "cells": [
  {
   "cell_type": "code",
   "metadata": {
    "ExecuteTime": {
     "end_time": "2025-09-09T01:30:17.671334Z",
     "start_time": "2025-09-09T01:30:17.617172Z"
    }
   },
   "source": [
    "import PIL.Image\n",
    "import PIL.ImageFilter\n",
    "import PIL.ImageEnhance\n",
    "\n",
    "input_image= PIL.Image.open('../../images/Gambian_model.png')\n",
    "input_image.show(\"The original\")"
   ],
   "outputs": [],
   "execution_count": 1
  },
  {
   "cell_type": "code",
   "metadata": {
    "ExecuteTime": {
     "end_time": "2025-09-09T01:30:29.285662Z",
     "start_time": "2025-09-09T01:30:29.254618Z"
    }
   },
   "source": [
    "sharpened_image = input_image.filter(PIL.ImageFilter.SHARPEN)\n",
    "sharpened_image.show(\"The sharpened image (by default factor)\")"
   ],
   "outputs": [],
   "execution_count": 2
  },
  {
   "cell_type": "code",
   "metadata": {
    "ExecuteTime": {
     "end_time": "2025-09-09T01:30:34.254492Z",
     "start_time": "2025-09-09T01:30:34.219391Z"
    }
   },
   "source": [
    "smoothed_image = input_image.filter(PIL.ImageFilter.SMOOTH)\n",
    "smoothed_image.show(\"The smoothed image (by default factor)\")"
   ],
   "outputs": [],
   "execution_count": 3
  },
  {
   "cell_type": "code",
   "metadata": {
    "ExecuteTime": {
     "end_time": "2025-09-09T01:30:40.687337Z",
     "start_time": "2025-09-09T01:30:40.669866Z"
    }
   },
   "source": [
    "# applies the black and white filter\n",
    "gray_image = input_image.convert('L')\n",
    "gray_image.show(\"The gray image\")"
   ],
   "outputs": [],
   "execution_count": 4
  },
  {
   "cell_type": "code",
   "metadata": {
    "ExecuteTime": {
     "end_time": "2025-09-09T01:30:46.591780Z",
     "start_time": "2025-09-09T01:30:46.556351Z"
    }
   },
   "source": [
    "edged_image = input_image.filter(PIL.ImageFilter.FIND_EDGES)\n",
    "edged_image.show(\"The edged image\")"
   ],
   "outputs": [],
   "execution_count": 5
  },
  {
   "cell_type": "code",
   "metadata": {
    "ExecuteTime": {
     "end_time": "2025-09-09T01:30:51.718952Z",
     "start_time": "2025-09-09T01:30:51.688474Z"
    }
   },
   "source": [
    "embossed_image = input_image.filter(PIL.ImageFilter.EMBOSS)\n",
    "embossed_image.show(\"The embossed image\")"
   ],
   "outputs": [],
   "execution_count": 6
  },
  {
   "cell_type": "code",
   "metadata": {
    "ExecuteTime": {
     "end_time": "2025-09-09T01:30:58.415085Z",
     "start_time": "2025-09-09T01:30:58.380988Z"
    }
   },
   "source": [
    "# Enhance the color of the picture\n",
    "color_enhancer = PIL.ImageEnhance.Color(input_image)\n",
    "color_enhanced_image = color_enhancer.enhance(2) # It can be reduced as well.\n",
    "color_enhanced_image.show(\"The color enhanced image (by the factor of 5)\")"
   ],
   "outputs": [],
   "execution_count": 7
  },
  {
   "metadata": {},
   "cell_type": "code",
   "outputs": [],
   "execution_count": null,
   "source": ""
  }
 ],
 "metadata": {
  "kernelspec": {
   "display_name": ".venv",
   "language": "python",
   "name": "python3"
  },
  "language_info": {
   "codemirror_mode": {
    "name": "ipython",
    "version": 3
   },
   "file_extension": ".py",
   "mimetype": "text/x-python",
   "name": "python",
   "nbconvert_exporter": "python",
   "pygments_lexer": "ipython3",
   "version": "3.13.1"
  }
 },
 "nbformat": 4,
 "nbformat_minor": 2
}
