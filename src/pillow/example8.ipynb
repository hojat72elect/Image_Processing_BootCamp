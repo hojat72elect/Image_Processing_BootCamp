{
 "cells": [
  {
   "cell_type": "code",
   "id": "initial_id",
   "metadata": {
    "collapsed": true,
    "ExecuteTime": {
     "end_time": "2025-09-13T06:51:27.502168Z",
     "start_time": "2025-09-13T06:51:27.397957Z"
    }
   },
   "source": [
    "from PIL import Image\n",
    "\n",
    "address = \"../../images/Iranian_model\"\n",
    "input_file_format = \".webp\"\n",
    "image1 = Image.open(f\"{address}{input_file_format}\")\n",
    "image1.show()"
   ],
   "outputs": [],
   "execution_count": 5
  },
  {
   "metadata": {
    "ExecuteTime": {
     "end_time": "2025-09-13T06:51:45.051456Z",
     "start_time": "2025-09-13T06:51:44.983216Z"
    }
   },
   "cell_type": "code",
   "source": [
    "## Convert the image from png to jpg\n",
    "\n",
    "output_file_format = \".jpg\"\n",
    "try:\n",
    "    image1.save(f\"{address}{output_file_format}\")\n",
    "except OSError:\n",
    "    print(\"Cannot convert the input file to a jpg file format.\")\n"
   ],
   "id": "5bd0d7635471b9b0",
   "outputs": [],
   "execution_count": 7
  },
  {
   "metadata": {},
   "cell_type": "code",
   "outputs": [],
   "execution_count": null,
   "source": "",
   "id": "18eb643c413fac03"
  }
 ],
 "metadata": {
  "kernelspec": {
   "display_name": "Python 3",
   "language": "python",
   "name": "python3"
  },
  "language_info": {
   "codemirror_mode": {
    "name": "ipython",
    "version": 2
   },
   "file_extension": ".py",
   "mimetype": "text/x-python",
   "name": "python",
   "nbconvert_exporter": "python",
   "pygments_lexer": "ipython2",
   "version": "2.7.6"
  }
 },
 "nbformat": 4,
 "nbformat_minor": 5
}
