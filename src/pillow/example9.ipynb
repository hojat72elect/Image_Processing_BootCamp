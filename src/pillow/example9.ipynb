{
 "cells": [
  {
   "cell_type": "code",
   "id": "b06cdb83fd46d880",
   "metadata": {
    "collapsed": true,
    "ExecuteTime": {
     "end_time": "2025-09-14T02:25:42.141969Z",
     "start_time": "2025-09-14T02:25:42.110314Z"
    }
   },
   "source": [
    "# All the required imports\n",
    "\n",
    "import PIL.Image\n",
    "import PIL.ImageFilter\n",
    "import PIL.ImageEnhance"
   ],
   "outputs": [],
   "execution_count": 7
  },
  {
   "metadata": {},
   "cell_type": "code",
   "outputs": [],
   "execution_count": 5,
   "source": [
    "# load the original image\n",
    "\n",
    "image1 = PIL.Image.open('../../images/Bulgarian_model.png')\n",
    "image1.show()"
   ],
   "id": "initial_id"
  },
  {
   "metadata": {
    "ExecuteTime": {
     "end_time": "2025-09-14T02:23:35.238817Z",
     "start_time": "2025-09-14T02:23:35.172699Z"
    }
   },
   "cell_type": "code",
   "source": [
    "# Sharpening the immage\n",
    "\n",
    "sharpened_image = image1.filter(PIL.ImageFilter.SHARPEN)\n",
    "sharpened_image.show()"
   ],
   "id": "c6f0b74ecc8680e",
   "outputs": [],
   "execution_count": 6
  },
  {
   "metadata": {
    "ExecuteTime": {
     "end_time": "2025-09-14T02:28:16.360761Z",
     "start_time": "2025-09-14T02:28:16.261058Z"
    }
   },
   "cell_type": "code",
   "source": [
    "# Increase the contrast\n",
    "\n",
    "contrast_enhancer = PIL.ImageEnhance.Contrast(image1)\n",
    "high_contrast_image = contrast_enhancer.enhance(1.5) # Increase the contrast by 50%\n",
    "high_contrast_image.show()"
   ],
   "id": "c5e9ae29a6886a8e",
   "outputs": [],
   "execution_count": 8
  },
  {
   "metadata": {},
   "cell_type": "code",
   "outputs": [],
   "execution_count": null,
   "source": "",
   "id": "1e78d42efbf9b617"
  }
 ],
 "metadata": {
  "kernelspec": {
   "display_name": "Python 3",
   "language": "python",
   "name": "python3"
  },
  "language_info": {
   "codemirror_mode": {
    "name": "ipython",
    "version": 2
   },
   "file_extension": ".py",
   "mimetype": "text/x-python",
   "name": "python",
   "nbconvert_exporter": "python",
   "pygments_lexer": "ipython2",
   "version": "2.7.6"
  }
 },
 "nbformat": 4,
 "nbformat_minor": 5
}
