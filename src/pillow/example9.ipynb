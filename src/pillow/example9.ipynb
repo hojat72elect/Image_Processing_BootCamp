{
 "cells": [
  {
   "cell_type": "code",
   "id": "b06cdb83fd46d880",
   "metadata": {
    "collapsed": true,
    "ExecuteTime": {
     "end_time": "2025-09-14T02:39:21.850658Z",
     "start_time": "2025-09-14T02:39:21.848098Z"
    }
   },
   "source": [
    "# All the required imports\n",
    "\n",
    "import PIL.Image\n",
    "import PIL.ImageFilter\n",
    "import PIL.ImageEnhance"
   ],
   "outputs": [],
   "execution_count": 12
  },
  {
   "metadata": {
    "ExecuteTime": {
     "end_time": "2025-09-14T02:39:25.023086Z",
     "start_time": "2025-09-14T02:39:24.975772Z"
    }
   },
   "cell_type": "code",
   "source": [
    "# load the original image\n",
    "\n",
    "image1 = PIL.Image.open('../../images/Bulgarian_model.png')\n",
    "image1.show()"
   ],
   "id": "initial_id",
   "outputs": [],
   "execution_count": 13
  },
  {
   "metadata": {
    "ExecuteTime": {
     "end_time": "2025-09-14T02:39:29.868350Z",
     "start_time": "2025-09-14T02:39:29.808130Z"
    }
   },
   "cell_type": "code",
   "source": [
    "# Sharpening the immage\n",
    "\n",
    "sharpened_image = image1.filter(PIL.ImageFilter.SHARPEN)\n",
    "sharpened_image.show()"
   ],
   "id": "c6f0b74ecc8680e",
   "outputs": [],
   "execution_count": 14
  },
  {
   "metadata": {
    "ExecuteTime": {
     "end_time": "2025-09-14T02:39:43.210154Z",
     "start_time": "2025-09-14T02:39:43.167786Z"
    }
   },
   "cell_type": "code",
   "source": [
    "# Increase the contrast\n",
    "\n",
    "contrast_enhancer = PIL.ImageEnhance.Contrast(image1)\n",
    "high_contrast_image = contrast_enhancer.enhance(1.5)  # Increase the contrast by 50%\n",
    "high_contrast_image.show()"
   ],
   "id": "c5e9ae29a6886a8e",
   "outputs": [],
   "execution_count": 15
  },
  {
   "metadata": {
    "ExecuteTime": {
     "end_time": "2025-09-14T02:39:53.852544Z",
     "start_time": "2025-09-14T02:39:53.775831Z"
    }
   },
   "cell_type": "code",
   "source": [
    "# Using a convolution kernel for sharpening the image\n",
    "\n",
    "sharpening_kernel = PIL.ImageFilter.Kernel(\n",
    "    size=(3, 3),\n",
    "    kernel=[-1, -1, -1,\n",
    "            -1, 9, -1,\n",
    "            -1, -1, -1]\n",
    ")\n",
    "\n",
    "sharpened_via_kernel_image = image1.filter(sharpening_kernel)\n",
    "sharpened_via_kernel_image.show()"
   ],
   "id": "1e78d42efbf9b617",
   "outputs": [],
   "execution_count": 16
  },
  {
   "metadata": {},
   "cell_type": "code",
   "outputs": [],
   "execution_count": null,
   "source": "",
   "id": "9b91e85fe63fcf6"
  }
 ],
 "metadata": {
  "kernelspec": {
   "display_name": "Python 3",
   "language": "python",
   "name": "python3"
  },
  "language_info": {
   "codemirror_mode": {
    "name": "ipython",
    "version": 2
   },
   "file_extension": ".py",
   "mimetype": "text/x-python",
   "name": "python",
   "nbconvert_exporter": "python",
   "pygments_lexer": "ipython2",
   "version": "2.7.6"
  }
 },
 "nbformat": 4,
 "nbformat_minor": 5
}
