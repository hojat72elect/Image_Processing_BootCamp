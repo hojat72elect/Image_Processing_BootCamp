{
 "cells": [
  {
   "cell_type": "code",
   "metadata": {
    "ExecuteTime": {
     "end_time": "2025-09-14T02:06:42.573971Z",
     "start_time": "2025-09-14T02:06:41.785117Z"
    }
   },
   "source": [
    "import PIL.Image\n",
    "\n",
    "image1 = PIL.Image.open('../../images/Gambian_model.png')\n",
    "type(image1)"
   ],
   "outputs": [
    {
     "data": {
      "text/plain": [
       "PIL.PngImagePlugin.PngImageFile"
      ]
     },
     "execution_count": 1,
     "metadata": {},
     "output_type": "execute_result"
    }
   ],
   "execution_count": 1
  },
  {
   "metadata": {
    "ExecuteTime": {
     "end_time": "2025-09-14T02:06:47.351698Z",
     "start_time": "2025-09-14T02:06:47.341284Z"
    }
   },
   "cell_type": "code",
   "source": "image1.format",
   "outputs": [
    {
     "data": {
      "text/plain": [
       "'PNG'"
      ]
     },
     "execution_count": 2,
     "metadata": {},
     "output_type": "execute_result"
    }
   ],
   "execution_count": 2
  },
  {
   "metadata": {
    "ExecuteTime": {
     "end_time": "2025-09-14T02:06:49.538733Z",
     "start_time": "2025-09-14T02:06:49.533391Z"
    }
   },
   "cell_type": "code",
   "source": "image1.size",
   "outputs": [
    {
     "data": {
      "text/plain": [
       "(537, 535)"
      ]
     },
     "execution_count": 3,
     "metadata": {},
     "output_type": "execute_result"
    }
   ],
   "execution_count": 3
  },
  {
   "metadata": {
    "ExecuteTime": {
     "end_time": "2025-09-14T02:06:51.043754Z",
     "start_time": "2025-09-14T02:06:51.039264Z"
    }
   },
   "cell_type": "code",
   "source": "image1.mode",
   "outputs": [
    {
     "data": {
      "text/plain": [
       "'RGB'"
      ]
     },
     "execution_count": 4,
     "metadata": {},
     "output_type": "execute_result"
    }
   ],
   "execution_count": 4
  },
  {
   "cell_type": "code",
   "metadata": {
    "ExecuteTime": {
     "end_time": "2025-09-14T02:06:52.116725Z",
     "start_time": "2025-09-14T02:06:51.978224Z"
    }
   },
   "source": [
    "image1.show()"
   ],
   "outputs": [],
   "execution_count": 5
  },
  {
   "cell_type": "code",
   "metadata": {
    "ExecuteTime": {
     "end_time": "2025-09-14T02:07:44.972411Z",
     "start_time": "2025-09-14T02:07:44.968942Z"
    }
   },
   "source": "image1.text",
   "outputs": [
    {
     "data": {
      "text/plain": [
       "{}"
      ]
     },
     "execution_count": 8,
     "metadata": {},
     "output_type": "execute_result"
    }
   ],
   "execution_count": 8
  },
  {
   "metadata": {
    "ExecuteTime": {
     "end_time": "2025-09-14T02:08:56.951672Z",
     "start_time": "2025-09-14T02:08:56.683841Z"
    }
   },
   "cell_type": "code",
   "source": [
    "\n",
    "image2 = PIL.Image.open('../../images/Iranian_model.webp')\n",
    "image2.verify()"
   ],
   "outputs": [],
   "execution_count": 10
  },
  {
   "metadata": {
    "ExecuteTime": {
     "end_time": "2025-09-14T02:11:33.102972Z",
     "start_time": "2025-09-14T02:11:33.098367Z"
    }
   },
   "cell_type": "code",
   "source": "type(image2)",
   "outputs": [
    {
     "data": {
      "text/plain": [
       "PIL.WebPImagePlugin.WebPImageFile"
      ]
     },
     "execution_count": 14,
     "metadata": {},
     "output_type": "execute_result"
    }
   ],
   "execution_count": 14
  },
  {
   "metadata": {
    "ExecuteTime": {
     "end_time": "2025-09-14T02:11:50.151558Z",
     "start_time": "2025-09-14T02:11:50.147808Z"
    }
   },
   "cell_type": "code",
   "source": "image2.format",
   "outputs": [
    {
     "data": {
      "text/plain": [
       "'WEBP'"
      ]
     },
     "execution_count": 15,
     "metadata": {},
     "output_type": "execute_result"
    }
   ],
   "execution_count": 15
  },
  {
   "metadata": {
    "ExecuteTime": {
     "end_time": "2025-09-14T02:12:04.053613Z",
     "start_time": "2025-09-14T02:12:04.050239Z"
    }
   },
   "cell_type": "code",
   "source": "image2.size",
   "outputs": [
    {
     "data": {
      "text/plain": [
       "(1000, 1201)"
      ]
     },
     "execution_count": 16,
     "metadata": {},
     "output_type": "execute_result"
    }
   ],
   "execution_count": 16
  },
  {
   "metadata": {
    "ExecuteTime": {
     "end_time": "2025-09-14T02:13:09.176671Z",
     "start_time": "2025-09-14T02:13:09.171312Z"
    }
   },
   "cell_type": "code",
   "source": "image1.tell()",
   "outputs": [
    {
     "data": {
      "text/plain": [
       "0"
      ]
     },
     "execution_count": 18,
     "metadata": {},
     "output_type": "execute_result"
    }
   ],
   "execution_count": 18
  },
  {
   "metadata": {},
   "cell_type": "code",
   "outputs": [],
   "execution_count": null,
   "source": ""
  }
 ],
 "metadata": {
  "kernelspec": {
   "display_name": ".venv",
   "language": "python",
   "name": "python3"
  },
  "language_info": {
   "codemirror_mode": {
    "name": "ipython",
    "version": 3
   },
   "file_extension": ".py",
   "mimetype": "text/x-python",
   "name": "python",
   "nbconvert_exporter": "python",
   "pygments_lexer": "ipython3",
   "version": "3.13.1"
  }
 },
 "nbformat": 4,
 "nbformat_minor": 2
}
