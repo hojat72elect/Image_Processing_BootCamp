{
 "cells": [
  {
   "cell_type": "code",
   "metadata": {
    "ExecuteTime": {
     "end_time": "2025-09-12T20:51:07.468772Z",
     "start_time": "2025-09-12T20:51:06.623318Z"
    }
   },
   "source": [
    "import PIL.Image\n",
    "\n",
    "image1 = PIL.Image.open('../../images/Gambian_model.png')\n",
    "type(image1)"
   ],
   "outputs": [
    {
     "data": {
      "text/plain": [
       "PIL.PngImagePlugin.PngImageFile"
      ]
     },
     "execution_count": 1,
     "metadata": {},
     "output_type": "execute_result"
    }
   ],
   "execution_count": 1
  },
  {
   "metadata": {
    "ExecuteTime": {
     "end_time": "2025-09-12T20:51:27.257864Z",
     "start_time": "2025-09-12T20:51:27.253580Z"
    }
   },
   "cell_type": "code",
   "source": "image1.format",
   "outputs": [
    {
     "data": {
      "text/plain": [
       "'PNG'"
      ]
     },
     "execution_count": 2,
     "metadata": {},
     "output_type": "execute_result"
    }
   ],
   "execution_count": 2
  },
  {
   "metadata": {
    "ExecuteTime": {
     "end_time": "2025-09-12T20:51:31.121161Z",
     "start_time": "2025-09-12T20:51:31.115032Z"
    }
   },
   "cell_type": "code",
   "source": "image1.size",
   "outputs": [
    {
     "data": {
      "text/plain": [
       "(537, 535)"
      ]
     },
     "execution_count": 3,
     "metadata": {},
     "output_type": "execute_result"
    }
   ],
   "execution_count": 3
  },
  {
   "metadata": {
    "ExecuteTime": {
     "end_time": "2025-09-12T20:51:35.082662Z",
     "start_time": "2025-09-12T20:51:35.077266Z"
    }
   },
   "cell_type": "code",
   "source": "image1.mode",
   "outputs": [
    {
     "data": {
      "text/plain": [
       "'RGB'"
      ]
     },
     "execution_count": 4,
     "metadata": {},
     "output_type": "execute_result"
    }
   ],
   "execution_count": 4
  },
  {
   "cell_type": "code",
   "metadata": {
    "ExecuteTime": {
     "end_time": "2025-09-12T20:51:37.905601Z",
     "start_time": "2025-09-12T20:51:37.762841Z"
    }
   },
   "source": [
    "image1.show()"
   ],
   "outputs": [],
   "execution_count": 5
  },
  {
   "cell_type": "code",
   "execution_count": null,
   "metadata": {},
   "outputs": [],
   "source": []
  }
 ],
 "metadata": {
  "kernelspec": {
   "display_name": ".venv",
   "language": "python",
   "name": "python3"
  },
  "language_info": {
   "codemirror_mode": {
    "name": "ipython",
    "version": 3
   },
   "file_extension": ".py",
   "mimetype": "text/x-python",
   "name": "python",
   "nbconvert_exporter": "python",
   "pygments_lexer": "ipython3",
   "version": "3.13.1"
  }
 },
 "nbformat": 4,
 "nbformat_minor": 2
}
