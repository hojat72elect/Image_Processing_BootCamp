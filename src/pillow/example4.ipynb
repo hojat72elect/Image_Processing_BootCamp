{
 "cells": [
  {
   "cell_type": "code",
   "metadata": {
    "ExecuteTime": {
     "end_time": "2025-09-09T01:31:17.783484Z",
     "start_time": "2025-09-09T01:31:17.710295Z"
    }
   },
   "source": [
    "import PIL.Image\n",
    "import PIL.ImageFilter\n",
    "\n",
    "input_image= PIL.Image.open('../../images/Bulgarian_model.png')\n",
    "input_image.show(\"The original image\")\n"
   ],
   "outputs": [],
   "execution_count": 1
  },
  {
   "cell_type": "code",
   "metadata": {
    "ExecuteTime": {
     "end_time": "2025-09-09T01:31:24.609262Z",
     "start_time": "2025-09-09T01:31:24.546063Z"
    }
   },
   "source": [
    " # simple blurring\n",
    "blurred_image = input_image.filter(PIL.ImageFilter.BLUR)\n",
    "blurred_image.show(\"The blurred image\")"
   ],
   "outputs": [],
   "execution_count": 2
  },
  {
   "cell_type": "code",
   "metadata": {
    "ExecuteTime": {
     "end_time": "2025-09-09T01:31:29.677288Z",
     "start_time": "2025-09-09T01:31:29.627717Z"
    }
   },
   "source": [
    "# box blur in the scale of 5\n",
    "box_blurred_image1 = input_image.filter(PIL.ImageFilter.BoxBlur(5))\n",
    "box_blurred_image1.show(\"The box blurred image (on the scale of 5)\")"
   ],
   "outputs": [],
   "execution_count": 3
  },
  {
   "cell_type": "code",
   "metadata": {
    "ExecuteTime": {
     "end_time": "2025-09-09T01:31:33.398592Z",
     "start_time": "2025-09-09T01:31:33.347748Z"
    }
   },
   "source": [
    "# Box blur in the scale of 20\n",
    "box_blurred_image2 = input_image.filter(PIL.ImageFilter.BoxBlur(20))\n",
    "box_blurred_image2.show(\"The box blurred image (on the scale of 20)\") "
   ],
   "outputs": [],
   "execution_count": 4
  },
  {
   "cell_type": "code",
   "execution_count": 8,
   "metadata": {},
   "outputs": [],
   "source": [
    "# Gaussian blur in the scale of 20\n",
    "gaussian_blurred_image = input_image.filter(PIL.ImageFilter.GaussianBlur(20))\n",
    "gaussian_blurred_image.show(\"The Gaussian blurred image\")"
   ]
  },
  {
   "cell_type": "code",
   "metadata": {
    "ExecuteTime": {
     "end_time": "2025-09-09T01:31:37.281412Z",
     "start_time": "2025-09-09T01:31:37.250397Z"
    }
   },
   "source": [
    "# Convert it into black and white\n",
    "bw_image = input_image.convert(\"L\")\n",
    "bw_image.show(\"The black and white image\")"
   ],
   "outputs": [],
   "execution_count": 5
  },
  {
   "metadata": {},
   "cell_type": "code",
   "outputs": [],
   "execution_count": null,
   "source": ""
  }
 ],
 "metadata": {
  "kernelspec": {
   "display_name": ".venv",
   "language": "python",
   "name": "python3"
  },
  "language_info": {
   "codemirror_mode": {
    "name": "ipython",
    "version": 3
   },
   "file_extension": ".py",
   "mimetype": "text/x-python",
   "name": "python",
   "nbconvert_exporter": "python",
   "pygments_lexer": "ipython3",
   "version": "3.13.1"
  }
 },
 "nbformat": 4,
 "nbformat_minor": 2
}
