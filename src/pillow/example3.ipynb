{
 "cells": [
  {
   "cell_type": "code",
   "metadata": {
    "ExecuteTime": {
     "end_time": "2025-09-09T01:31:57.246999Z",
     "start_time": "2025-09-09T01:31:57.191297Z"
    }
   },
   "source": [
    "import PIL.Image\n",
    "import PIL.ImageEnhance\n",
    " \n",
    "\n",
    "input_image= PIL.Image.open('../../images/Gambian_model.png')\n",
    "\n",
    "enhancement1 = PIL.ImageEnhance.Contrast(input_image)\n",
    "enhancement1.enhance(1.8).show(\"80% more contrast\")"
   ],
   "outputs": [],
   "execution_count": 1
  },
  {
   "metadata": {},
   "cell_type": "code",
   "outputs": [],
   "execution_count": null,
   "source": ""
  }
 ],
 "metadata": {
  "kernelspec": {
   "display_name": ".venv",
   "language": "python",
   "name": "python3"
  },
  "language_info": {
   "codemirror_mode": {
    "name": "ipython",
    "version": 3
   },
   "file_extension": ".py",
   "mimetype": "text/x-python",
   "name": "python",
   "nbconvert_exporter": "python",
   "pygments_lexer": "ipython3",
   "version": "3.13.1"
  }
 },
 "nbformat": 4,
 "nbformat_minor": 2
}
