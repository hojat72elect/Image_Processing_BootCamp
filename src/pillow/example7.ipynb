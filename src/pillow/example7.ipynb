{
 "cells": [
  {
   "cell_type": "code",
   "id": "initial_id",
   "metadata": {
    "collapsed": true,
    "ExecuteTime": {
     "end_time": "2025-09-12T23:34:42.602571Z",
     "start_time": "2025-09-12T23:34:42.391549Z"
    }
   },
   "source": [
    "from PIL import Image, ImageDraw, ImageFont\n",
    "\n",
    "# get an image\n",
    "with Image.open(\"../../images/Bulgarian_model.png\").convert(\"RGBA\") as base:\n",
    "    # make a blank image for the text, initialized to transparent text color\n",
    "    txt = Image.new(\"RGBA\", base.size, (255, 255, 255, 0))\n",
    "    # get a drawing context\n",
    "    d = ImageDraw.Draw(txt)\n",
    "    # draw text, half opacity\n",
    "    d.text((10, 10), \"Hello\", fill=(255, 255, 255, 128))\n",
    "    # draw text, full opacity\n",
    "    d.text((10, 60), \"World\", fill=(255, 255, 255, 255))\n",
    "    out = Image.alpha_composite(base, txt)\n",
    "    out.show()"
   ],
   "outputs": [],
   "execution_count": 4
  },
  {
   "metadata": {},
   "cell_type": "code",
   "outputs": [],
   "execution_count": null,
   "source": "",
   "id": "610c58e037d0d919"
  }
 ],
 "metadata": {
  "kernelspec": {
   "display_name": "Python 3",
   "language": "python",
   "name": "python3"
  },
  "language_info": {
   "codemirror_mode": {
    "name": "ipython",
    "version": 2
   },
   "file_extension": ".py",
   "mimetype": "text/x-python",
   "name": "python",
   "nbconvert_exporter": "python",
   "pygments_lexer": "ipython2",
   "version": "2.7.6"
  }
 },
 "nbformat": 4,
 "nbformat_minor": 5
}
